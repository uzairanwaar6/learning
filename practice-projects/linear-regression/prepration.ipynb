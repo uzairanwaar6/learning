{
 "cells": [
  {
   "cell_type": "code",
   "execution_count": 2,
   "id": "6b801133",
   "metadata": {},
   "outputs": [],
   "source": [
    "import pandas as pd\n",
    "import matplotlib.pyplot as plt\n",
    "from sklearn.preprocessing import StandardScaler, MinMaxScaler"
   ]
  },
  {
   "cell_type": "code",
   "execution_count": null,
   "id": "d9e9333e",
   "metadata": {},
   "outputs": [
    {
     "name": "stdout",
     "output_type": "stream",
     "text": [
      "0    1\n",
      "1    0\n",
      "2    1\n",
      "3    1\n",
      "4    0\n",
      "Name: Extracurricular Activities, dtype: int64\n"
     ]
    }
   ],
   "source": [
    "studentsDS = '../data/USCI/st-perf-10000.csv'\n",
    "extraActivities  = 'Extracurricular Activities'\n",
    "\n",
    "ds = pd.read_csv(studentsDS)\n",
    "ds[extraActivities] = ds[extraActivities].map(lambda x: 1 if str.lower(x) == 'yes' else 0)\n",
    "\n",
    "print(ds[extraActivities].head())\n",
    "# print(encoded.head())\n",
    "# print(ds.info())\n",
    "# print(encoded.describe())\n"
   ]
  },
  {
   "cell_type": "code",
   "execution_count": 8,
   "id": "4685190b",
   "metadata": {},
   "outputs": [],
   "source": [
    "\n",
    "\n",
    "tempDs = ds.loc[:10]\n",
    "standardScaler = StandardScaler()\n",
    "minMaxScaler = MinMaxScaler()\n",
    "\n",
    "stadardScaled = standardScaler.fit_transform(tempDs)\n",
    "stadardScaled = pd.DataFrame(stadardScaled, columns=tempDs.columns)\n",
    "\n",
    "minMaxScaled = minMaxScaler.fit_transform(tempDs)\n",
    "minMaxScaled = pd.DataFrame(minMaxScaled,columns=tempDs.columns)\n"
   ]
  },
  {
   "cell_type": "code",
   "execution_count": null,
   "id": "6eb267fa",
   "metadata": {},
   "outputs": [],
   "source": [
    "print(tempDs.head())\n",
    "print(stadardScaled.head())\n",
    "print(minMaxScaled.head())\n",
    "print(minMaxScaled.describe())"
   ]
  },
  {
   "cell_type": "code",
   "execution_count": null,
   "id": "2147d089",
   "metadata": {},
   "outputs": [],
   "source": [
    "\n",
    "\n",
    "\n",
    "# Optional: Set index if there's an 'Index' or 'Time' column\n",
    "# if 'Index' in stadardScaled.columns:\n",
    "#     stadardScaled.set_index('Index', inplace=True)\n",
    "\n",
    "# Plot all columns\n",
    "plt.figure(figsize=(20, 4))\n",
    "for column in stadardScaled.columns:\n",
    "    plt.plot(stadardScaled.index, stadardScaled[column], marker='o', label=column)\n",
    "\n",
    "plt.title(\"Line Plot of All Columns\")\n",
    "# plt.xlabel(\"Index\")\n",
    "plt.ylabel(\"Values\")\n",
    "plt.legend()\n",
    "plt.grid(True)\n",
    "plt.tight_layout()\n",
    "plt.show()\n",
    "\n",
    "\n",
    "# Plot all columns\n",
    "plt.figure(figsize=(20, 4))\n",
    "for column in minMaxScaled.columns:\n",
    "    plt.plot(minMaxScaled.index, minMaxScaled[column], marker='o', label=column)\n",
    "\n",
    "plt.title(\"Line Plot of All Columns\")\n",
    "# plt.xlabel(\"Index\")\n",
    "plt.ylabel(\"Values\")\n",
    "plt.legend()\n",
    "plt.grid(True)\n",
    "plt.tight_layout()\n",
    "plt.show()"
   ]
  }
 ],
 "metadata": {
  "kernelspec": {
   "display_name": "venv",
   "language": "python",
   "name": "python3"
  },
  "language_info": {
   "codemirror_mode": {
    "name": "ipython",
    "version": 3
   },
   "file_extension": ".py",
   "mimetype": "text/x-python",
   "name": "python",
   "nbconvert_exporter": "python",
   "pygments_lexer": "ipython3",
   "version": "3.13.5"
  }
 },
 "nbformat": 4,
 "nbformat_minor": 5
}
