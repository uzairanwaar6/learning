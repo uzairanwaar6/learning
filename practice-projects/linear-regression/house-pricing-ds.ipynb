{
 "cells": [
  {
   "cell_type": "code",
   "execution_count": 1,
   "id": "53f8e658",
   "metadata": {},
   "outputs": [
    {
     "name": "stdout",
     "output_type": "stream",
     "text": [
      "✅ 'house_pricing_100k.csv' has been created.\n"
     ]
    }
   ],
   "source": [
    "import pandas as pd\n",
    "import numpy as np\n",
    "\n",
    "# Set seed and parameters\n",
    "np.random.seed(42)\n",
    "num_records = 100000\n",
    "current_year = 2025\n",
    "\n",
    "# Generate features\n",
    "area = np.random.randint(800, 4000, num_records)\n",
    "bedrooms = np.random.randint(1, 6, num_records)\n",
    "bathrooms = np.random.randint(1, 4, num_records)\n",
    "garage = np.random.randint(0, 2, num_records)\n",
    "floors = np.random.randint(1, 4, num_records)\n",
    "has_garden = np.random.randint(0, 2, num_records)\n",
    "location_score = np.random.randint(1, 11, num_records)\n",
    "year_built = np.random.randint(1970, 2026, num_records)\n",
    "distance_center = np.random.randint(0, 51, num_records)\n",
    "renovated = np.random.randint(0, 2, num_records)\n",
    "\n",
    "# Compute price using a clean formula\n",
    "price = (\n",
    "    50000 +\n",
    "    area * 100 +\n",
    "    bedrooms * 10000 +\n",
    "    bathrooms * 5000 +\n",
    "    garage * 8000 +\n",
    "    floors * 3000 +\n",
    "    has_garden * 6000 +\n",
    "    location_score * 2000 +\n",
    "    renovated * 7000 -\n",
    "    distance_center * 1500 -\n",
    "    (current_year - year_built) * 1000\n",
    ")\n",
    "\n",
    "# Create DataFrame\n",
    "df = pd.DataFrame({\n",
    "    \"House_ID\": np.arange(1, num_records + 1),\n",
    "    \"Area\": area,\n",
    "    \"Bedrooms\": bedrooms,\n",
    "    \"Bathrooms\": bathrooms,\n",
    "    \"Garage\": garage,\n",
    "    \"Floors\": floors,\n",
    "    \"Has_Garden\": has_garden,\n",
    "    \"Location_Score\": location_score,\n",
    "    \"Year_Built\": year_built,\n",
    "    \"Distance_Center\": distance_center,\n",
    "    \"Renovated\": renovated,\n",
    "    \"Price\": price.astype(int)\n",
    "})\n",
    "\n",
    "# Save to CSV\n",
    "df.to_csv(\"house_pricing_100k.csv\", index=False)\n",
    "print(\"✅ 'house_pricing_100k.csv' has been created.\")\n"
   ]
  }
 ],
 "metadata": {
  "kernelspec": {
   "display_name": "venv",
   "language": "python",
   "name": "python3"
  },
  "language_info": {
   "codemirror_mode": {
    "name": "ipython",
    "version": 3
   },
   "file_extension": ".py",
   "mimetype": "text/x-python",
   "name": "python",
   "nbconvert_exporter": "python",
   "pygments_lexer": "ipython3",
   "version": "3.13.5"
  }
 },
 "nbformat": 4,
 "nbformat_minor": 5
}
