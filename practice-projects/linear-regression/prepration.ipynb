{
 "cells": [
  {
   "cell_type": "code",
   "execution_count": 17,
   "id": "6b801133",
   "metadata": {},
   "outputs": [],
   "source": [
    "import pandas as pd\n",
    "import matplotlib.pyplot as plt\n",
    "from sklearn.preprocessing import StandardScaler, MinMaxScaler"
   ]
  },
  {
   "cell_type": "code",
   "execution_count": 19,
   "id": "d9e9333e",
   "metadata": {},
   "outputs": [
    {
     "name": "stdout",
     "output_type": "stream",
     "text": [
      "0    1\n",
      "1    0\n",
      "2    1\n",
      "3    1\n",
      "4    0\n",
      "Name: Extracurricular Activities, dtype: int64\n"
     ]
    }
   ],
   "source": [
    "studentsDS = '../data/sample-files/USCI/st-perf-10000.csv'\n",
    "extraActivities  = 'Extracurricular Activities'\n",
    "\n",
    "df = pd.read_csv(studentsDS)\n",
    "df[extraActivities] = df[extraActivities].map(lambda x: 1 if str.lower(x) == 'yes' else 0)\n",
    "\n",
    "print(df[extraActivities].head())\n",
    "# print(encoded.head())\n",
    "# print(ds.info())\n",
    "# print(encoded.describe())\n"
   ]
  },
  {
   "cell_type": "code",
   "execution_count": null,
   "id": "4685190b",
   "metadata": {},
   "outputs": [],
   "source": [
    "\n",
    "\n",
    "tempDs = df.loc[:10]\n",
    "standardScaler = StandardScaler()\n",
    "\n",
    "\n",
    "stadardScaled = standardScaler.fit_transform(tempDs)\n",
    "stadardScaled = pd.DataFrame(stadardScaled, columns=tempDs.columns)\n",
    "\n",
    "\n",
    "minMaxScaler = MinMaxScaler()\n",
    "minMaxScaled = minMaxScaler.fit_transform(tempDs)\n",
    "minMaxScaled = pd.DataFrame(minMaxScaled,columns=tempDs.columns)\n"
   ]
  },
  {
   "cell_type": "code",
   "execution_count": null,
   "id": "6eb267fa",
   "metadata": {},
   "outputs": [],
   "source": [
    "print(tempDs.head())\n",
    "print(stadardScaled.head())\n",
    "print(minMaxScaled.head())\n",
    "print(minMaxScaled.describe())"
   ]
  },
  {
   "cell_type": "code",
   "execution_count": null,
   "id": "2147d089",
   "metadata": {},
   "outputs": [],
   "source": [
    "\n",
    "\n",
    "\n",
    "# Optional: Set index if there's an 'Index' or 'Time' column\n",
    "# if 'Index' in stadardScaled.columns:\n",
    "#     stadardScaled.set_index('Index', inplace=True)\n",
    "\n",
    "# Plot all columns\n",
    "plt.figure(figsize=(20, 4))\n",
    "for column in stadardScaled.columns:\n",
    "    plt.plot(stadardScaled.index, stadardScaled[column], marker='o', label=column)\n",
    "\n",
    "plt.title(\"Line Plot of All Columns\")\n",
    "# plt.xlabel(\"Index\")\n",
    "plt.ylabel(\"Values\")\n",
    "plt.legend()\n",
    "plt.grid(True)\n",
    "plt.tight_layout()\n",
    "plt.show()\n",
    "\n",
    "\n",
    "# Plot all columns\n",
    "plt.figure(figsize=(20, 4))\n",
    "for column in minMaxScaled.columns:\n",
    "    plt.plot(minMaxScaled.index, minMaxScaled[column], marker='o', label=column)\n",
    "\n",
    "plt.title(\"Line Plot of All Columns\")\n",
    "# plt.xlabel(\"Index\")\n",
    "plt.ylabel(\"Values\")\n",
    "plt.legend()\n",
    "plt.grid(True)\n",
    "plt.tight_layout()\n",
    "plt.show()"
   ]
  },
  {
   "cell_type": "code",
   "execution_count": null,
   "id": "1fe2ae7e",
   "metadata": {},
   "outputs": [
    {
     "name": "stdout",
     "output_type": "stream",
     "text": [
      "(6000, 5)\n",
      "(6000,)\n",
      "(2000, 5)\n",
      "(2000,)\n",
      "(2000, 5)\n",
      "(2000,)\n"
     ]
    }
   ],
   "source": [
    "from sklearn.preprocessing import MinMaxScaler\n",
    "from sklearn.linear_model import LinearRegression\n",
    "from sklearn.model_selection import train_test_split\n",
    "\n",
    "\n",
    "studentsDS = '../data/sample-files/USCI/st-perf-10000.csv'\n",
    "extraActivities  = 'Extracurricular Activities'\n",
    "sourcePath = '../data/sample-files'\n",
    "targetDirectory = '../data/training-files'\n",
    "y_train_column = 'Performance Index'\n",
    "\n",
    "\n",
    "df = pd.read_csv(studentsDS)\n",
    "df[extraActivities] = df[extraActivities].map(lambda x: 1 if str.lower(x) == 'yes' else 0)\n",
    "\n",
    "minMaxScaler = MinMaxScaler()\n",
    "minMaxScaled = minMaxScaler.fit_transform(df)\n",
    "df = pd.DataFrame(minMaxScaled,columns=df.columns)\n",
    "\n",
    "y = df[y_train_column]\n",
    "X = df.drop(columns=[y_train_column])\n",
    "\n",
    "\n",
    "\n",
    "X_train, X_test, y_train, y_test = train_test_split(X, y, test_size=0.4, random_state=242)\n",
    "X_cv, X_test, y_cv, y_test = train_test_split(X_test, y_test, test_size=0.5, random_state=242)\n",
    "\n",
    "print(X_train.shape)\n",
    "print(y_train.shape)\n",
    "\n",
    "print(X_test.shape)\n",
    "print(y_test.shape)\n",
    "\n",
    "print(X_cv.shape)\n",
    "print(y_cv.shape)\n",
    "\n",
    "\n"
   ]
  },
  {
   "cell_type": "code",
   "execution_count": 80,
   "id": "01a2d767",
   "metadata": {},
   "outputs": [],
   "source": [
    "import numpy as np\n",
    "\n",
    "def predict(x,w,b):\n",
    "    y_hat = np.dot(x,w) + b\n",
    "    return y_hat"
   ]
  },
  {
   "cell_type": "code",
   "execution_count": 54,
   "id": "879d74f0",
   "metadata": {},
   "outputs": [],
   "source": [
    "\n",
    "\n",
    "def linear_regression(X, w, b):\n",
    "    y_hats = []\n",
    "    for i in range(X.shape[0]):\n",
    "        x = X[i]\n",
    "        y_hats.append(predict(x, w, b))\n",
    "\n",
    "    return y_hats\n"
   ]
  },
  {
   "cell_type": "code",
   "execution_count": 56,
   "id": "f898050a",
   "metadata": {},
   "outputs": [],
   "source": [
    "def compute_lr_cost(X,y, w, b):\n",
    "    y_hats = linear_regression(X,w,b)\n",
    "\n",
    "    sum=0\n",
    "    for i in range(len(y)):\n",
    "        true_y = y[i]\n",
    "        y_hat = y_hats[i]\n",
    "        sum+= (y_hat - true_y) ** 2\n",
    "\n",
    "    cost = 1 * sum / (2 * len(y))\n",
    "\n",
    "    return cost\n"
   ]
  },
  {
   "cell_type": "code",
   "execution_count": 68,
   "id": "cafcc1c8",
   "metadata": {},
   "outputs": [],
   "source": [
    "def gradient_descent(X, y, w, b, a):\n",
    "    w_sum = 0\n",
    "    b_sum = 0\n",
    "    for i in range(len(y)):\n",
    "        x = X[i]\n",
    "        true_y = y[i]\n",
    "        y_hat = predict(x,w,b)\n",
    "\n",
    "        b_sum += (y_hat - true_y)\n",
    "        w_sum +=  b_sum * x\n",
    "\n",
    "    dw = w - (a * (1 * w_sum / len(y)))\n",
    "    db = b - (a * (1 * b_sum / len(y)))\n",
    "\n",
    "    return (dw,db)\n"
   ]
  },
  {
   "cell_type": "code",
   "execution_count": 119,
   "id": "977d5625",
   "metadata": {},
   "outputs": [],
   "source": [
    "def reduce_cost(X, y, w, b, a):\n",
    "    \n",
    "\n",
    "    for i in range(3000):\n",
    "        w,b = gradient_descent(X, y, w, b, a)\n",
    "\n",
    "        print('Iteration ' + str(i+1) )\n",
    "        print('B\\t\\t'+str(b))\n",
    "        \n",
    "        print('W\\t\\t'+str(np.sum(w)))\n",
    "        print('=========================')\n",
    "\n",
    "    return w,b\n"
   ]
  },
  {
   "cell_type": "code",
   "execution_count": null,
   "id": "afbe3d21",
   "metadata": {},
   "outputs": [],
   "source": [
    "w = [1,1,1,1,1]\n",
    "b = 1\n",
    "a = 0.0001\n",
    "w, b = reduce_cost(X_train.to_numpy(), y_train.to_numpy(), w, b, a)\n",
    "\n",
    "print('Final Result===========================')\n",
    "print(w)\n",
    "print(b)"
   ]
  },
  {
   "cell_type": "code",
   "execution_count": null,
   "id": "d59a8019",
   "metadata": {},
   "outputs": [],
   "source": [
    "# W and B finalized after 3000 rounds\n",
    "[-0.18019041 -0.18845894 -0.18471739 -0.20309086 -0.2271868 ]\n",
    "0.9985738582774483"
   ]
  },
  {
   "cell_type": "code",
   "execution_count": 129,
   "id": "317e9f60",
   "metadata": {},
   "outputs": [
    {
     "data": {
      "image/png": "[encoded data removed]",
      "text/plain": [
       "<Figure size 640x480 with 1 Axes>"
      ]
     },
     "metadata": {},
     "output_type": "display_data"
    }
   ],
   "source": [
    "df_sampled = df.sample(n=100, random_state=42)\n",
    "\n",
    "sample = y_train.sample(n=100, random_state=42)\n",
    "xColumnName = 'Previous Scores';\n",
    "xColumn = X_train[xColumnName]\n",
    "\n",
    "plt.scatter(xColumn[:100], y_train[:100])\n",
    "plt.xlabel(xColumnName)\n",
    "plt.ylabel('Y Values')\n",
    "plt.title('Scatter Plot of Y Values')\n",
    "plt.show()"
   ]
  }
 ],
 "metadata": {
  "kernelspec": {
   "display_name": "venv",
   "language": "python",
   "name": "python3"
  },
  "language_info": {
   "codemirror_mode": {
    "name": "ipython",
    "version": 3
   },
   "file_extension": ".py",
   "mimetype": "text/x-python",
   "name": "python",
   "nbconvert_exporter": "python",
   "pygments_lexer": "ipython3",
   "version": "3.13.5"
  }
 },
 "nbformat": 4,
 "nbformat_minor": 5
}
